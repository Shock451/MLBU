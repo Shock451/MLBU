{
  "nbformat": 4,
  "nbformat_minor": 0,
  "metadata": {
    "colab": {
      "name": "ml2.ipynb",
      "provenance": [],
      "include_colab_link": true
    },
    "kernelspec": {
      "name": "python3",
      "display_name": "Python 3"
    }
  },
  "cells": [
    {
      "cell_type": "markdown",
      "metadata": {
        "id": "view-in-github",
        "colab_type": "text"
      },
      "source": [
        "<a href=\"https://colab.research.google.com/github/Shock451/MLBU/blob/master/ml2.ipynb\" target=\"_parent\"><img src=\"https://colab.research.google.com/assets/colab-badge.svg\" alt=\"Open In Colab\"/></a>"
      ]
    },
    {
      "cell_type": "markdown",
      "metadata": {
        "id": "gq0d6lfbq3v-",
        "colab_type": "text"
      },
      "source": [
        "## LINEAR REGRESSION WITH SCIKIT LEARN"
      ]
    },
    {
      "cell_type": "code",
      "metadata": {
        "id": "q--HbmuJrt11",
        "colab_type": "code",
        "colab": {}
      },
      "source": [
        "from sklearn import datasets\n",
        "from sklearn.model_selection import train_test_split\n",
        "from sklearn.linear_model import LinearRegression\n",
        "\n",
        "# using rmse and sqrt from the math package \n",
        "from sklearn.metrics import mean_squared_error\n",
        "from math import sqrt"
      ],
      "execution_count": 0,
      "outputs": []
    },
    {
      "cell_type": "code",
      "metadata": {
        "id": "J5l8p99zlDip",
        "colab_type": "code",
        "colab": {}
      },
      "source": [
        "# load dataset \n",
        "data= datasets.load_boston()"
      ],
      "execution_count": 0,
      "outputs": []
    },
    {
      "cell_type": "code",
      "metadata": {
        "id": "pebEENgJsAHa",
        "colab_type": "code",
        "colab": {}
      },
      "source": [
        "# separate features and target\n",
        "X = data.data # features are usually X -- Industry conventions\n",
        "y = data.target # Y"
      ],
      "execution_count": 0,
      "outputs": []
    },
    {
      "cell_type": "code",
      "metadata": {
        "id": "CLf68lvm94qT",
        "colab_type": "code",
        "colab": {}
      },
      "source": [
        ""
      ],
      "execution_count": 0,
      "outputs": []
    },
    {
      "cell_type": "code",
      "metadata": {
        "id": "NeKWofNssctH",
        "colab_type": "code",
        "colab": {}
      },
      "source": [
        "# split into training and test sets\n",
        "X_train, X_test, y_train, y_test = train_test_split(X, y, shuffle = True)"
      ],
      "execution_count": 0,
      "outputs": []
    },
    {
      "cell_type": "code",
      "metadata": {
        "id": "eRO3SSQ2xIrb",
        "colab_type": "code",
        "colab": {}
      },
      "source": [
        "# create the model  & normalize the dataset\n",
        "linear_reg = LinearRegression(normalize = True)"
      ],
      "execution_count": 0,
      "outputs": []
    },
    {
      "cell_type": "code",
      "metadata": {
        "id": "6EV6oDwr4a6s",
        "colab_type": "code",
        "outputId": "023653e7-76ea-4d49-c4de-9ce4d6a8ac54",
        "colab": {
          "base_uri": "https://localhost:8080/",
          "height": 35
        }
      },
      "source": [
        "# fit the model on the training set \n",
        "linear_reg.fit(X_train, y_train)"
      ],
      "execution_count": 0,
      "outputs": [
        {
          "output_type": "execute_result",
          "data": {
            "text/plain": [
              "LinearRegression(copy_X=True, fit_intercept=True, n_jobs=None, normalize=True)"
            ]
          },
          "metadata": {
            "tags": []
          },
          "execution_count": 17
        }
      ]
    },
    {
      "cell_type": "code",
      "metadata": {
        "id": "y0hfIA124qau",
        "colab_type": "code",
        "colab": {}
      },
      "source": [
        "# make a prediction\n",
        "predictions = linear_reg.predict(X_test)"
      ],
      "execution_count": 0,
      "outputs": []
    },
    {
      "cell_type": "code",
      "metadata": {
        "id": "E9IJNurS46eP",
        "colab_type": "code",
        "outputId": "fb6e115f-eb91-4ac8-858f-905f32735b67",
        "colab": {
          "base_uri": "https://localhost:8080/",
          "height": 35
        }
      },
      "source": [
        "# print out the last 5 items on the list\n",
        "predictions[:5]"
      ],
      "execution_count": 0,
      "outputs": [
        {
          "output_type": "execute_result",
          "data": {
            "text/plain": [
              "array([17.01085676, 20.48251214, 20.49794996, 20.15893517, 37.51831058])"
            ]
          },
          "metadata": {
            "tags": []
          },
          "execution_count": 21
        }
      ]
    },
    {
      "cell_type": "code",
      "metadata": {
        "id": "-SzDNeDE48v8",
        "colab_type": "code",
        "outputId": "3cc4d6a0-aae9-42a3-a830-c6ff5a9fdcc0",
        "colab": {
          "base_uri": "https://localhost:8080/",
          "height": 35
        }
      },
      "source": [
        "# print out the last 5 items on the list\n",
        "y_test[:5]"
      ],
      "execution_count": 0,
      "outputs": [
        {
          "output_type": "execute_result",
          "data": {
            "text/plain": [
              "array([17.5, 20.1, 21.8, 16.7, 44. ])"
            ]
          },
          "metadata": {
            "tags": []
          },
          "execution_count": 22
        }
      ]
    },
    {
      "cell_type": "code",
      "metadata": {
        "id": "uLz-rneg5RDG",
        "colab_type": "code",
        "outputId": "7eef2f5c-9bcf-43b9-cba7-1841d64db4c7",
        "colab": {
          "base_uri": "https://localhost:8080/",
          "height": 35
        }
      },
      "source": [
        "# evaluate the performance using RMSE\n",
        "print(\"RMSE: \", sqrt(mean_squared_error(y_test, predictions)))"
      ],
      "execution_count": 0,
      "outputs": [
        {
          "output_type": "stream",
          "text": [
            "RMSE:  4.71931213513665\n"
          ],
          "name": "stdout"
        }
      ]
    },
    {
      "cell_type": "code",
      "metadata": {
        "id": "yyOzxxso6hi8",
        "colab_type": "code",
        "colab": {}
      },
      "source": [
        ""
      ],
      "execution_count": 0,
      "outputs": []
    }
  ]
}